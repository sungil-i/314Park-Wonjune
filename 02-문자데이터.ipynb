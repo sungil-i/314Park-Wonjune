{
 "cells": [
  {
   "cell_type": "markdown",
   "id": "b91efd30-e383-43e6-87a1-ecb3155286ab",
   "metadata": {},
   "source": [
    "# 문자열 데이터"
   ]
  },
  {
   "cell_type": "code",
   "execution_count": 1,
   "id": "b2deae8e-fa12-4dc7-99af-9bbd0e11dc84",
   "metadata": {},
   "outputs": [
    {
     "name": "stdout",
     "output_type": "stream",
     "text": [
      "나의 이름은 \"김성일\" 입니다. <class 'str'>\n"
     ]
    }
   ],
   "source": [
    "a = '나의 이름은 \"김성일\" 입니다.'\n",
    "print(a, type(a))"
   ]
  },
  {
   "cell_type": "code",
   "execution_count": 3,
   "id": "8590b0c4-dda3-4f1a-98b9-41b73721952a",
   "metadata": {},
   "outputs": [
    {
     "name": "stdout",
     "output_type": "stream",
     "text": [
      "\n",
      "김소월 진달래꽃\n",
      "나 보기가 역겨워\n",
      "가실 때에는\n",
      "말없이 고이 보내 드리우리다\n",
      "\n",
      "영변에 약산\n",
      "진달래꽃\n",
      "아름 따다 가실 길에 뿌리우리다\n",
      "\n",
      "가시는 걸음걸음\n",
      "놓인 그 꽃을\n",
      "사뿐히 즈려밟고 가시옵소서\n",
      "\n",
      "나 보기가 역겨워\n",
      "가실 때에는\n",
      "죽어도 아니 눈물 흘리우리다\n",
      "\n"
     ]
    }
   ],
   "source": [
    "b = '''\n",
    "김소월 진달래꽃\n",
    "나 보기가 역겨워\n",
    "가실 때에는\n",
    "말없이 고이 보내 드리우리다\n",
    "\n",
    "영변에 약산\n",
    "진달래꽃\n",
    "아름 따다 가실 길에 뿌리우리다\n",
    "\n",
    "가시는 걸음걸음\n",
    "놓인 그 꽃을\n",
    "사뿐히 즈려밟고 가시옵소서\n",
    "\n",
    "나 보기가 역겨워\n",
    "가실 때에는\n",
    "죽어도 아니 눈물 흘리우리다\n",
    "'''\n",
    "print(b)"
   ]
  },
  {
   "cell_type": "code",
   "execution_count": 4,
   "id": "01f581ac-bb96-48a3-80e7-b4b286942510",
   "metadata": {},
   "outputs": [
    {
     "name": "stdout",
     "output_type": "stream",
     "text": [
      "나는 성남에 살고 있습니다 나의 나이는 19 세입니다\n"
     ]
    }
   ],
   "source": [
    "print('나는', '성남에 살고 있습니다', '나의 나이는', 19, '세입니다')"
   ]
  },
  {
   "cell_type": "markdown",
   "id": "4a19cefb-09ec-4ae3-9bc7-51a0c4455fd9",
   "metadata": {
    "tags": []
   },
   "source": [
    "## 문자열에 특수문자 (이스케이프 문자\\\\)"
   ]
  },
  {
   "cell_type": "code",
   "execution_count": 9,
   "id": "753c3e39-d38e-4678-bcf0-b43136204c3b",
   "metadata": {},
   "outputs": [
    {
     "name": "stdout",
     "output_type": "stream",
     "text": [
      "3학년\n",
      "14반\n",
      "20번 \\나의 이름은 '박원준'입니다\n"
     ]
    }
   ],
   "source": [
    "c = '3학년\\n14반\\n20번 \\\\나의 이름은 \\'박원준\\'입니다'\n",
    "print(c)"
   ]
  },
  {
   "cell_type": "markdown",
   "id": "2376f393-eaa0-41d2-8f2c-08dd9ba02a31",
   "metadata": {},
   "source": [
    "## 문자열 연산"
   ]
  },
  {
   "cell_type": "code",
   "execution_count": 11,
   "id": "d96c6782-809e-419f-80a6-992cf0d87fe8",
   "metadata": {},
   "outputs": [
    {
     "name": "stdout",
     "output_type": "stream",
     "text": [
      "성일정보고등학교\n",
      "성일성일성일성일성일\n",
      "정보정보정보\n",
      "고등학교\n"
     ]
    }
   ],
   "source": [
    "x = '성일'\n",
    "y = '정보'\n",
    "z = '고등학교'\n",
    "\n",
    "print( x + y + z )\n",
    "print( x*5 + '\\n' + y*3 + '\\n' + z )"
   ]
  },
  {
   "cell_type": "code",
   "execution_count": 29,
   "id": "39c899f6-169d-4a8b-9f8d-4957f7057306",
   "metadata": {},
   "outputs": [
    {
     "name": "stdout",
     "output_type": "stream",
     "text": [
      "경기 성남시 중원구 시민로77번길 10-2\n",
      "문자열1의 길이는 23\n",
      "경\n",
      "2\n",
      "2\n",
      "0\n",
      "경기 성남시\n",
      "중원구\n",
      " 10-\n",
      "10-2\n",
      "경기,성남시,중원구,시민로77번길,10-2\n"
     ]
    }
   ],
   "source": [
    "문자열1 = '경기 성남시 중원구 시민로77번길 10-2'\n",
    "print(문자열1)\n",
    "print('문자열1의 길이는', len(문자열1))\n",
    "print(문자열1[0])\n",
    "print(문자열1[22])\n",
    "print(문자열1[-1])\n",
    "print(문자열1[-3])\n",
    "\n",
    "print(문자열1[0:6])\n",
    "print(문자열1[7:10])\n",
    "print(문자열1[-5:-1])\n",
    "\n",
    "xyz = 문자열1.split(' ')\n",
    "print(xyz[-1])\n",
    "abc = ','.join(xyz)\n",
    "print(abc)"
   ]
  }
 ],
 "metadata": {
  "kernelspec": {
   "display_name": "Python 3 (ipykernel)",
   "language": "python",
   "name": "python3"
  },
  "language_info": {
   "codemirror_mode": {
    "name": "ipython",
    "version": 3
   },
   "file_extension": ".py",
   "mimetype": "text/x-python",
   "name": "python",
   "nbconvert_exporter": "python",
   "pygments_lexer": "ipython3",
   "version": "3.9.13"
  }
 },
 "nbformat": 4,
 "nbformat_minor": 5
}
