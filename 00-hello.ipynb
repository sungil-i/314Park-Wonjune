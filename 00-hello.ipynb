{
 "cells": [
  {
   "cell_type": "code",
   "execution_count": 3,
   "id": "3c32e0b2-50cf-44e0-97af-6c2b575ba15d",
   "metadata": {
    "tags": []
   },
   "outputs": [
    {
     "name": "stdout",
     "output_type": "stream",
     "text": [
      "성일정보 3학년 14반\n"
     ]
    }
   ],
   "source": [
    "print('성일정보 3학년 14반')"
   ]
  },
  {
   "cell_type": "code",
   "execution_count": 1,
   "id": "259b4f6e-aa78-4a78-a101-3ec68e51b3ad",
   "metadata": {},
   "outputs": [
    {
     "name": "stdout",
     "output_type": "stream",
     "text": [
      "김성일 입니다\n"
     ]
    }
   ],
   "source": [
    "print('김성일 입니다')"
   ]
  },
  {
   "cell_type": "code",
   "execution_count": 4,
   "id": "d76a3312-e4a8-45f9-8a6b-386dcbcc1078",
   "metadata": {},
   "outputs": [
    {
     "name": "stdout",
     "output_type": "stream",
     "text": [
      "1\n",
      "2\n",
      "소프트웨어개발과\n"
     ]
    }
   ],
   "source": [
    "a = 1\n",
    "b = 2\n",
    "c = '소프트웨어개발과'\n",
    "print(a)\n",
    "print(b)\n",
    "print(c)"
   ]
  },
  {
   "cell_type": "markdown",
   "id": "f01c2c76-81f8-4298-b870-3046cf56bd0c",
   "metadata": {},
   "source": [
    "# 제목 1\n",
    "\n",
    "## 제목 2\n",
    "\n",
    "### 제목 3\n",
    "\n",
    "**학생**의 **꿈과 열정**, 함께 하는 **배움의 즐거움**, \n",
    "**성취의 기쁨**과 **보람**이 가득한 \n",
    "성일정보고등학교입니다.\n",
    "\n",
    "이미지 넣는 방법\n",
    "\n",
    "![로고](https://sungili-h.goesn.kr/images/sungili-h/sub/sungili_01_05_01.png)\n",
    "\n",
    "리스트 만드는 방법\n",
    "\n",
    "1. 아이템 1\n",
    "    - 아이템 A\n",
    "    - 아이템 B\n",
    "    - 아이템 C\n",
    "2. 아이템 2\n",
    "    * 아이템 A\n",
    "    * 아이템 B\n",
    "        - 아이템 a\n",
    "        - 아이템 b\n",
    "    * 아이템 C\n",
    "3. 아이템 3\n",
    "    - 아이템 A\n",
    "        - 아이템 a\n",
    "        - 아이템 b\n",
    "    - 아이템 B\n",
    "    - 아이템 C\n",
    "\n",
    "링크 만드는 방법\n",
    "\n",
    "[네이버](https://www.naver.com)\n",
    "\n",
    "테이블 만드는 방법\n",
    "\n",
    "|제목|내용|설명|\n",
    "|:--|--:|:---:|\n",
    "|제목1| 테이블내용1 | 설명1입니다 |\n",
    "|제목2| 테이블 내용2 | 설명2입니다 |\n",
    "|제목3| 테이블 내용3 | 설명3입니다 |"
   ]
  }
 ],
 "metadata": {
  "kernelspec": {
   "display_name": "Python 3 (ipykernel)",
   "language": "python",
   "name": "python3"
  },
  "language_info": {
   "codemirror_mode": {
    "name": "ipython",
    "version": 3
   },
   "file_extension": ".py",
   "mimetype": "text/x-python",
   "name": "python",
   "nbconvert_exporter": "python",
   "pygments_lexer": "ipython3",
   "version": "3.9.13"
  }
 },
 "nbformat": 4,
 "nbformat_minor": 5
}
