{
 "cells": [
  {
   "cell_type": "markdown",
   "id": "29acb11b-434e-415a-b558-d35fde408b18",
   "metadata": {},
   "source": [
    "# 숫자 데이터\n",
    "\n",
    "## 변수\n",
    "\n",
    "변수는 자료를 담는 그릇이다. "
   ]
  },
  {
   "cell_type": "code",
   "execution_count": 20,
   "id": "cbe912ac-71c6-4e62-950d-91678db6ea16",
   "metadata": {},
   "outputs": [
    {
     "name": "stdout",
     "output_type": "stream",
     "text": [
      "a 변수의 타입은 <class 'int'>\n",
      "b 변수의 타입은 <class 'float'>\n",
      "c 변수의 타입은 <class 'str'>\n"
     ]
    }
   ],
   "source": [
    "a = 10       # 숫자(정수)를 담는 변수\n",
    "b = 3.14     # 숫자(실수)를 담는 변수\n",
    "c = \"파이썬\"  # 문자열을 담는 변수\n",
    "\n",
    "print('a 변수의 타입은', type(a))\n",
    "print('b 변수의 타입은', type(b))\n",
    "print('c 변수의 타입은', type(c))"
   ]
  },
  {
   "cell_type": "code",
   "execution_count": 15,
   "id": "ea77be21-de20-43a6-9a60-cc5fb4e7b6e6",
   "metadata": {},
   "outputs": [
    {
     "name": "stdout",
     "output_type": "stream",
     "text": [
      "10\n",
      "3.14\n",
      "파이썬\n"
     ]
    }
   ],
   "source": [
    "print(a)\n",
    "print(b)\n",
    "print(c)\n",
    "\n",
    "d, e, f = 11, 22, 333\n",
    "x, y, z = f, d, e"
   ]
  },
  {
   "cell_type": "code",
   "execution_count": 14,
   "id": "81ec7a14-bd84-456a-bc8e-320766e03844",
   "metadata": {},
   "outputs": [
    {
     "name": "stdout",
     "output_type": "stream",
     "text": [
      "11 22 33\n",
      "33 11 22\n"
     ]
    }
   ],
   "source": [
    "print(d, e, f)\n",
    "print(x, y, z)"
   ]
  },
  {
   "cell_type": "code",
   "execution_count": 11,
   "id": "0a0812bd-b233-431e-90df-f58d6bddb52c",
   "metadata": {},
   "outputs": [
    {
     "name": "stdout",
     "output_type": "stream",
     "text": [
      "3.141592 3.141592 3.141592\n"
     ]
    }
   ],
   "source": [
    "pi_1 = pi_2 = pi_3 = 3.141592\n",
    "\n",
    "print(pi_1, pi_2, pi_3)"
   ]
  },
  {
   "cell_type": "markdown",
   "id": "4d6f9d18-782d-4d92-b870-f247b102460d",
   "metadata": {},
   "source": [
    "## 파이썬 데이터 타입의 종류\n",
    "\n",
    "- 불리언 boolean (예) 참/거짓\n",
    "- 정수 integer (예) 10, 20, 30..\n",
    "- 소수 float (예) 3.141592\n",
    "- 문자열 string (예) \"파이썬\", '자료구조'\n",
    "- 리스트: 변할 수 있는 배열\n",
    "- 튜플: 변할 수 없는 배열\n",
    "- 셋: 자료의 집합\n",
    "- 딕셔너리: 키와 값을 가진 자료"
   ]
  },
  {
   "cell_type": "code",
   "execution_count": null,
   "id": "7b162986-dd8f-4cb1-a719-4d57cd5dfd8d",
   "metadata": {},
   "outputs": [],
   "source": [
    "# 자리수를 언더바(_)로 끊어서 표현할 수 있다.\n",
    "print(1000000)\n",
    "print(1_000_000)\n",
    "print(34_275_123)"
   ]
  },
  {
   "cell_type": "code",
   "execution_count": 7,
   "id": "786dd9ee-df6a-4932-8114-d41adc8b15a3",
   "metadata": {},
   "outputs": [
    {
     "name": "stdout",
     "output_type": "stream",
     "text": [
      "<class 'float'>\n",
      "5.0\n"
     ]
    }
   ],
   "source": [
    "a1 = 5.\n",
    "print(type(a1))\n",
    "print(5.)"
   ]
  },
  {
   "cell_type": "markdown",
   "id": "3a0c6569-9a41-4b7d-9772-451e63708c1a",
   "metadata": {},
   "source": [
    "## 파이썬의 연산자\n",
    "\n",
    "- 덧셈 +\n",
    "- 뺄셍 -\n",
    "- 곱셈 *\n",
    "- 나눗셈 /\n",
    "- 나눗셈의 몫 //\n",
    "- 나눗셈의 나머지 *\n",
    "- 제곱근 ** pow함수"
   ]
  },
  {
   "cell_type": "code",
   "execution_count": 18,
   "id": "c78f8bdf-f96e-4673-aac9-3f5036a044f0",
   "metadata": {},
   "outputs": [
    {
     "name": "stdout",
     "output_type": "stream",
     "text": [
      "13\n",
      "7\n",
      "30\n",
      "3.3333333333333335\n",
      "3\n",
      "1\n",
      "1000\n",
      "1000\n"
     ]
    }
   ],
   "source": [
    "숫자1 = 10\n",
    "숫자2 = 3\n",
    "print(숫자1 + 숫자2)  # 덧셈 연산\n",
    "print(숫자1 - 숫자2)  # 뺄셈 연산\n",
    "print(숫자1 * 숫자2)  # 곱셈 연산\n",
    "print(숫자1 / 숫자2)  # 나눗셈 연산\n",
    "print(숫자1 // 숫자2) # 나눗셈의 몫\n",
    "print(숫자1 % 숫자2)  # 나눗셈의 나머지\n",
    "print(숫자1 ** 숫자2) # 거듭제곱\n",
    "print(pow(숫자1, 숫자2)) # 거듭제곱 함수"
   ]
  },
  {
   "cell_type": "code",
   "execution_count": 25,
   "id": "2bb2ccea-51f6-47d8-ac4e-42b82cc7c5eb",
   "metadata": {},
   "outputs": [
    {
     "name": "stdout",
     "output_type": "stream",
     "text": [
      "6\n",
      "9\n",
      "6\n",
      "-25\n",
      "25\n",
      "500000000\n"
     ]
    }
   ],
   "source": [
    "# 연산의 순서\n",
    "print(2 + 5 - 1)\n",
    "print(2 * 5 - 1)\n",
    "\n",
    "print( 2 + ( 5 - 1 ) )\n",
    "\n",
    "print(-5 ** 2)\n",
    "print( (-5) ** 2 )\n",
    "\n",
    "print( 5 * 10 ** 8 )"
   ]
  }
 ],
 "metadata": {
  "kernelspec": {
   "display_name": "Python 3 (ipykernel)",
   "language": "python",
   "name": "python3"
  },
  "language_info": {
   "codemirror_mode": {
    "name": "ipython",
    "version": 3
   },
   "file_extension": ".py",
   "mimetype": "text/x-python",
   "name": "python",
   "nbconvert_exporter": "python",
   "pygments_lexer": "ipython3",
   "version": "3.9.13"
  }
 },
 "nbformat": 4,
 "nbformat_minor": 5
}
